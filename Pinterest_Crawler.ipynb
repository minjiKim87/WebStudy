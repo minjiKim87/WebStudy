{
  "nbformat": 4,
  "nbformat_minor": 0,
  "metadata": {
    "colab": {
      "provenance": [],
      "authorship_tag": "ABX9TyN458r2QOONTfGiTTou02VI",
      "include_colab_link": true
    },
    "kernelspec": {
      "name": "python3",
      "display_name": "Python 3"
    },
    "language_info": {
      "name": "python"
    }
  },
  "cells": [
    {
      "cell_type": "markdown",
      "metadata": {
        "id": "view-in-github",
        "colab_type": "text"
      },
      "source": [
        "<a href=\"https://colab.research.google.com/github/minjiKim87/WebStudy/blob/master/Pinterest_Crawler.ipynb\" target=\"_parent\"><img src=\"https://colab.research.google.com/assets/colab-badge.svg\" alt=\"Open In Colab\"/></a>"
      ]
    },
    {
      "cell_type": "code",
      "execution_count": null,
      "metadata": {
        "colab": {
          "base_uri": "https://localhost:8080/"
        },
        "id": "Oe_rrtXe6_Qn",
        "outputId": "43ebcd0b-96be-4617-c7ca-591c39f5efb3"
      },
      "outputs": [
        {
          "output_type": "stream",
          "name": "stdout",
          "text": [
            "Drive already mounted at /content/drive; to attempt to forcibly remount, call drive.mount(\"/content/drive\", force_remount=True).\n",
            "Looking in indexes: https://pypi.org/simple, https://us-python.pkg.dev/colab-wheels/public/simple/\n",
            "Requirement already satisfied: selenium in /usr/local/lib/python3.8/dist-packages (4.7.2)\n",
            "Requirement already satisfied: trio~=0.17 in /usr/local/lib/python3.8/dist-packages (from selenium) (0.22.0)\n",
            "Requirement already satisfied: certifi>=2021.10.8 in /usr/local/lib/python3.8/dist-packages (from selenium) (2022.9.24)\n",
            "Requirement already satisfied: urllib3[socks]~=1.26 in /usr/local/lib/python3.8/dist-packages (from selenium) (1.26.13)\n",
            "Requirement already satisfied: trio-websocket~=0.9 in /usr/local/lib/python3.8/dist-packages (from selenium) (0.9.2)\n",
            "Requirement already satisfied: exceptiongroup>=1.0.0rc9 in /usr/local/lib/python3.8/dist-packages (from trio~=0.17->selenium) (1.0.4)\n",
            "Requirement already satisfied: attrs>=19.2.0 in /usr/local/lib/python3.8/dist-packages (from trio~=0.17->selenium) (22.1.0)\n",
            "Requirement already satisfied: sniffio in /usr/local/lib/python3.8/dist-packages (from trio~=0.17->selenium) (1.3.0)\n",
            "Requirement already satisfied: idna in /usr/local/lib/python3.8/dist-packages (from trio~=0.17->selenium) (2.10)\n",
            "Requirement already satisfied: sortedcontainers in /usr/local/lib/python3.8/dist-packages (from trio~=0.17->selenium) (2.4.0)\n",
            "Requirement already satisfied: outcome in /usr/local/lib/python3.8/dist-packages (from trio~=0.17->selenium) (1.2.0)\n",
            "Requirement already satisfied: async-generator>=1.9 in /usr/local/lib/python3.8/dist-packages (from trio~=0.17->selenium) (1.10)\n",
            "Requirement already satisfied: wsproto>=0.14 in /usr/local/lib/python3.8/dist-packages (from trio-websocket~=0.9->selenium) (1.2.0)\n",
            "Requirement already satisfied: PySocks!=1.5.7,<2.0,>=1.5.6 in /usr/local/lib/python3.8/dist-packages (from urllib3[socks]~=1.26->selenium) (1.7.1)\n",
            "Requirement already satisfied: h11<1,>=0.9.0 in /usr/local/lib/python3.8/dist-packages (from wsproto>=0.14->trio-websocket~=0.9->selenium) (0.14.0)\n",
            "Get:1 http://security.ubuntu.com/ubuntu bionic-security InRelease [88.7 kB]\n",
            "Hit:2 http://ppa.launchpad.net/c2d4u.team/c2d4u4.0+/ubuntu bionic InRelease\n",
            "Hit:3 https://cloud.r-project.org/bin/linux/ubuntu bionic-cran40/ InRelease\n",
            "Hit:4 http://ppa.launchpad.net/cran/libgit2/ubuntu bionic InRelease\n",
            "Hit:5 http://ppa.launchpad.net/deadsnakes/ppa/ubuntu bionic InRelease\n",
            "Hit:6 http://ppa.launchpad.net/graphics-drivers/ppa/ubuntu bionic InRelease\n",
            "Hit:7 http://archive.ubuntu.com/ubuntu bionic InRelease\n",
            "Get:8 http://archive.ubuntu.com/ubuntu bionic-updates InRelease [88.7 kB]\n",
            "Ign:9 https://developer.download.nvidia.com/compute/machine-learning/repos/ubuntu1804/x86_64  InRelease\n",
            "Hit:10 https://developer.download.nvidia.com/compute/cuda/repos/ubuntu1804/x86_64  InRelease\n",
            "Hit:11 https://developer.download.nvidia.com/compute/machine-learning/repos/ubuntu1804/x86_64  Release\n",
            "Get:12 http://archive.ubuntu.com/ubuntu bionic-backports InRelease [83.3 kB]\n",
            "Get:14 http://archive.ubuntu.com/ubuntu bionic-updates/main amd64 Packages [3,524 kB]\n",
            "Get:15 http://archive.ubuntu.com/ubuntu bionic-updates/universe amd64 Packages [2,342 kB]\n",
            "Fetched 6,127 kB in 3s (2,334 kB/s)\n",
            "Reading package lists... Done\n",
            "Reading package lists... Done\n",
            "Building dependency tree       \n",
            "Reading state information... Done\n",
            "chromium-chromedriver is already the newest version (108.0.5359.71-0ubuntu0.18.04.5).\n",
            "The following package was automatically installed and is no longer required:\n",
            "  libnvidia-common-460\n",
            "Use 'apt autoremove' to remove it.\n",
            "0 upgraded, 0 newly installed, 0 to remove and 34 not upgraded.\n"
          ]
        }
      ],
      "source": [
        "from google.colab import drive\n",
        "drive.mount('/content/drive')\n",
        "\n",
        "\n",
        "!pip install selenium\n",
        "!apt-get update\n",
        "!apt install chromium-chromedriver\n",
        "\n",
        "from selenium import webdriver\n",
        "import os\n",
        "from tqdm import tqdm\n",
        "import sys\n",
        "import urllib.request\n",
        "from time import sleep\n",
        "from bs4 import BeautifulSoup\n",
        "\n"
      ]
    },
    {
      "cell_type": "code",
      "source": [
        "#driver.get에서 오류생기면 이것만 다시 임포트 \n",
        "chrome_options = webdriver.ChromeOptions()\n",
        "chrome_options.add_argument('--headless')\n",
        "chrome_options.add_argument('--no-sandbox')\n",
        "chrome_options.add_argument('--disable-dev-shm-usage')\n",
        "driver = webdriver.Chrome('chromedriver', chrome_options=chrome_options)"
      ],
      "metadata": {
        "colab": {
          "base_uri": "https://localhost:8080/"
        },
        "id": "tQMaAQ-vzAU8",
        "outputId": "0b89cfdb-6063-4c87-aab0-2f6ae37e0b92"
      },
      "execution_count": null,
      "outputs": [
        {
          "output_type": "stream",
          "name": "stderr",
          "text": [
            "<ipython-input-331-7676e7d4f3e8>:5: DeprecationWarning: use options instead of chrome_options\n",
            "  driver = webdriver.Chrome('chromedriver', chrome_options=chrome_options)\n"
          ]
        }
      ]
    },
    {
      "cell_type": "code",
      "source": [
        "#스크롤 관련 임포트\n",
        "# library import\n",
        "from tqdm.auto import tqdm\n",
        "from selenium.webdriver.common.by import By\n",
        "from selenium.webdriver.common.keys import Keys\n",
        "from selenium.webdriver.support.ui import WebDriverWait\n",
        "from selenium.webdriver.support import expected_conditions as EC"
      ],
      "metadata": {
        "id": "EAeb8ZlscY73"
      },
      "execution_count": null,
      "outputs": []
    },
    {
      "cell_type": "code",
      "source": [
        "keyword = input('보드 이름 : ')\n",
        "maxImages = int(input('다운로드할 최대 이미지 수 : '))\n",
        "\n",
        "path = '/content/drive/MyDrive/pin/'+keyword+'_'+str(maxImages)\n",
        "\n",
        "#디렉토리 중복에 대한 오류는 안함\n",
        "\n",
        "os.makedirs(path)\n",
        "\n",
        "imgCount = 0 #추출 시도 이미지 수\n",
        "success = 0 #추출 성공 이미지 수 \n",
        "finish = False #이미지에 모두 접근했는지 여부 "
      ],
      "metadata": {
        "colab": {
          "base_uri": "https://localhost:8080/"
        },
        "id": "ABow7ZlP73Dl",
        "outputId": "e8685623-1680-4faa-9237-532882c28e4d"
      },
      "execution_count": null,
      "outputs": [
        {
          "name": "stdout",
          "output_type": "stream",
          "text": [
            "보드 이름 : 2000\n",
            "다운로드할 최대 이미지 수 : 50\n"
          ]
        }
      ]
    },
    {
      "cell_type": "code",
      "source": [
        "#링크 고정\n",
        "driver.get('https://www.pinterest.co.kr/dreamycrysmh/2211~/')\n",
        "sleep(1)\n",
        "\n",
        "driver.maximize_window()\n",
        "last_height = driver.execute_script(\"return document.body.scrollHeight\")\n",
        "print(last_height)\n",
        "\n",
        "while True:\n",
        "  driver.execute_script(\"window.scrollTo(0, document.body.scrollHeight);\")\n",
        "  sleep(1)\n",
        "  new_height = driver.execute_script(\"return document.body.scrollHeight\")\n",
        "  print(new_height)\n",
        "  if new_height > 2000:\n",
        "    break\n",
        "\n",
        "sleep(5)"
      ],
      "metadata": {
        "colab": {
          "base_uri": "https://localhost:8080/"
        },
        "id": "4MN4NPLphzkG",
        "outputId": "730574fb-66be-449c-fe4c-54887e724735"
      },
      "execution_count": null,
      "outputs": [
        {
          "output_type": "stream",
          "name": "stdout",
          "text": [
            "4223\n",
            "5689\n"
          ]
        }
      ]
    },
    {
      "cell_type": "code",
      "source": [
        "imgCount=0\n",
        "success=0\n",
        "\n",
        "#html 코드 가공\n",
        "html = driver.page_source\n",
        "soup = BeautifulSoup(html,'html.parser')\n",
        "\n",
        "  #<div class=\"XiG zI7 iyn Hsu\">\n",
        "\n",
        "#imgs = soup.select('div.XiG.zI7.iyn.Hsu img')\n",
        "imgs = soup.select('div.XiG.zI7.iyn.Hsu img')\n",
        "\n",
        "for img in imgs:\n",
        "  srcset = img.get('src') #pinterest에 대체재가 없어서 일단 src저화질로\n",
        "\n",
        "  if len(srcset):\n",
        "    src2=str(srcset).split()[0]\n",
        "    filename = src2.split('/')[-1]\n",
        "    saveUrl = path+'/'+filename\n",
        "    print(src2)\n",
        "    req = urllib.request.Request(src2, headers={'User-Agent': 'Mozilla/5.0'})\n",
        "    try:\n",
        "       imgUrl = urllib.request.urlopen(req).read() #웹 페이지 상의 이미지를 불러옴\n",
        "       with open(saveUrl,\"wb\") as f: #디렉토리 오픈\n",
        "        f.write(imgUrl) #파일 저장\n",
        "        success+=1\n",
        "    except urllib.error.HTTPError:\n",
        "        print('에러')\n",
        "        sys.exit(0)\n",
        "    #print(success)\n",
        "    imgCount+=1\n",
        "    print(imgCount)\n",
        "    if imgCount == maxImages:\n",
        "      finish = True\n",
        "      break\n",
        "\n",
        "print('성공 : '+str(success)+', 실패 : '+str(maxImages-success))"
      ],
      "metadata": {
        "colab": {
          "base_uri": "https://localhost:8080/"
        },
        "id": "XNlrJIeB8h80",
        "outputId": "d0e7db83-c8cd-4d12-c5ee-799fa55028bf"
      },
      "execution_count": null,
      "outputs": [
        {
          "output_type": "stream",
          "name": "stdout",
          "text": [
            "https://i.pinimg.com/75x75_RS/c7/9f/69/c79f695fb186c1cb551fdbddfd2792d3.jpg\n",
            "1\n",
            "https://i.pinimg.com/236x/cc/89/0c/cc890ccca3a496c535805c09a855d3df--tv-actors-amelie.jpg\n",
            "2\n",
            "https://i.pinimg.com/236x/b0/b2/70/b0b27032fa02c1c342997ed32f6ce547.jpg\n",
            "3\n",
            "https://i.pinimg.com/75x75_RS/b6/5a/51/b65a51e9e8a30695c7de7944144112a2.jpg\n",
            "4\n",
            "https://i.pinimg.com/236x/41/bd/54/41bd542b158667b4ddc343756e0000fa--green-and-orange-shades-of-green.jpg\n",
            "5\n",
            "https://i.pinimg.com/236x/74/e1/8b/74e18b13d338e7f99f22e9277035da80.jpg\n",
            "6\n",
            "https://i.pinimg.com/236x/a3/a5/df/a3a5df4c8dfc3724edd6f338983c5396--parasols-umbrellas.jpg\n",
            "7\n",
            "https://i.pinimg.com/75x75_RS/0e/db/16/0edb16506927560cf0ec96db8f27a8bb.jpg\n",
            "8\n",
            "https://i.pinimg.com/236x/ac/2f/e9/ac2fe9f407767f4f8a2172e16e98e303--david-foster-outer-space.jpg\n",
            "9\n",
            "https://i.pinimg.com/236x/a4/08/13/a4081385352e2408035ce23824e0e3be.jpg\n",
            "10\n",
            "https://i.pinimg.com/75x75_RS/97/67/3e/97673ea63ada3c4e7107527f26014054.jpg\n",
            "11\n",
            "https://i.pinimg.com/236x/98/de/6f/98de6fbca6c9f89fde5f308b4fad4a7c--monochromatic-room-interior-walls.jpg\n",
            "12\n",
            "https://i.pinimg.com/236x/ea/82/ab/ea82abde30ee65d66b7b1fba813274a2.jpg\n",
            "13\n",
            "https://i.pinimg.com/236x/4b/0a/a4/4b0aa40b9eb4e9cb10a8e23f98ad1553--garden-wallpaper-wall-wallpaper.jpg\n",
            "14\n",
            "https://i.pinimg.com/236x/e2/9f/5c/e29f5c5843767e6b38e4cb16e0ccc1b0.jpg\n",
            "15\n",
            "https://i.pinimg.com/236x/fb/05/00/fb0500c2d9a0a82e86111a507d3e1f8d.jpg\n",
            "16\n",
            "https://i.pinimg.com/236x/86/70/fc/8670fcc0d08b863ca7474cd85195b7ad.jpg\n",
            "17\n",
            "https://i.pinimg.com/236x/bb/d2/51/bbd2519e41cbc9151e0e11b8a4e68fec--turkish-lamps-turkish-lanterns.jpg\n",
            "18\n",
            "https://i.pinimg.com/236x/7a/30/20/7a30207a36bcaf69d950dad0dea8bc28.jpg\n",
            "19\n",
            "성공 : 19, 실패 : 31\n"
          ]
        }
      ]
    }
  ]
}